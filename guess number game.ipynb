{
 "cells": [
  {
   "cell_type": "code",
   "execution_count": null,
   "metadata": {},
   "outputs": [
    {
     "name": "stdout",
     "output_type": "stream",
     "text": [
      "Enter an integer from 1 to 25: 6\n",
      "guess is low\n",
      "Enter an integer from 1 to 25: 8\n",
      "no. of guess 1\n",
      "guess is low\n",
      "Enter an integer from 1 to 25: 9\n",
      "no. of guess 2\n",
      "guess is low\n",
      "Enter an integer from 1 to 25: 3\n",
      "no. of guess 3\n",
      "guess is low\n"
     ]
    }
   ],
   "source": [
    "import random\n",
    "n = random.randint(1, 25)\n",
    "guess = int(input(\"Enter an integer from 1 to 25: \"))\n",
    "count =0\n",
    "while n != \"guess\":\n",
    "    if guess < n:\n",
    "        print (\"guess is low\")\n",
    "        guess = int(input(\"Enter an integer from 1 to 25: \"))\n",
    "        count+=1\n",
    "        print('no. of guess',count)\n",
    "    elif guess > n:\n",
    "        print (\"guess is high\")\n",
    "        guess = int(input(\"Enter an integer from 1 to 25: \"))\n",
    "        count+=1\n",
    "        print('no. of guess ',count)\n",
    "    else:\n",
    "        print (\"you guessed it!\")\n",
    "        count+=1\n",
    "        print('no. of guess',count)\n",
    "        break\n"
   ]
  },
  {
   "cell_type": "code",
   "execution_count": null,
   "metadata": {},
   "outputs": [],
   "source": []
  }
 ],
 "metadata": {
  "kernelspec": {
   "display_name": "Python 3",
   "language": "python",
   "name": "python3"
  },
  "language_info": {
   "codemirror_mode": {
    "name": "ipython",
    "version": 3
   },
   "file_extension": ".py",
   "mimetype": "text/x-python",
   "name": "python",
   "nbconvert_exporter": "python",
   "pygments_lexer": "ipython3",
   "version": "3.7.2"
  }
 },
 "nbformat": 4,
 "nbformat_minor": 2
}
